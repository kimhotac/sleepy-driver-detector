{
 "cells": [
  {
   "cell_type": "markdown",
   "id": "29dd0fca",
   "metadata": {},
   "source": [
    "# 👁️ 눈 이미지 예측 (Open/Closed)\n",
    "- `rf_model.pkl` 불러와서 `open_76.png` 예측"
   ]
  },
  {
   "cell_type": "code",
   "execution_count": 1,
   "id": "3bac1b92",
   "metadata": {},
   "outputs": [
    {
     "name": "stdout",
     "output_type": "stream",
     "text": [
      "예측 결과: Open\n"
     ]
    }
   ],
   "source": [
    "import cv2\n",
    "import joblib\n",
    "\n",
    "# 모델 불러오기\n",
    "model = joblib.load(\"rf_model.pkl\")\n",
    "\n",
    "# 이미지 불러오기\n",
    "img_path = \"./open_76.png\"\n",
    "img = cv2.imread(img_path)\n",
    "\n",
    "if img is None:\n",
    "    raise ValueError(f\"이미지를 불러올 수 없습니다: {img_path}\")\n",
    "\n",
    "# 전처리: 리사이즈 + 정규화\n",
    "resized = cv2.resize(img, (64, 64))\n",
    "rescaled = resized / 255.0\n",
    "flattened = rescaled.flatten().reshape(1, -1)\n",
    "\n",
    "# 예측\n",
    "result = model.predict(flattened)[0]\n",
    "label = \"Open\" if result == 1 else \"Closed\"\n",
    "\n",
    "# 결과 출력\n",
    "print(\"예측 결과:\", label)"
   ]
  }
 ],
 "metadata": {
  "kernelspec": {
   "display_name": "mp_env",
   "language": "python",
   "name": "python3"
  },
  "language_info": {
   "codemirror_mode": {
    "name": "ipython",
    "version": 3
   },
   "file_extension": ".py",
   "mimetype": "text/x-python",
   "name": "python",
   "nbconvert_exporter": "python",
   "pygments_lexer": "ipython3",
   "version": "3.10.18"
  }
 },
 "nbformat": 4,
 "nbformat_minor": 5
}
