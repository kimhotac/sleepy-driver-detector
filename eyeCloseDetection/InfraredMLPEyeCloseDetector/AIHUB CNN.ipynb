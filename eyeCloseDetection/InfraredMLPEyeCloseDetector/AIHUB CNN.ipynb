{
 "cells": [
  {
   "cell_type": "code",
   "execution_count": 1,
   "id": "d40810e8",
   "metadata": {},
   "outputs": [],
   "source": [
    "import json\n",
    "import os\n",
    "from pathlib import Path\n",
    "\n",
    "import cv2\n",
    "import matplotlib.pyplot as plt\n",
    "import numpy as np\n",
    "import torch\n",
    "import torch.nn as nn\n",
    "import torch.nn.functional as F\n",
    "from PIL import Image\n",
    "from sklearn.metrics import (accuracy_score, classification_report,\n",
    "                             confusion_matrix)\n",
    "from torch.utils.data import DataLoader, Dataset, random_split\n",
    "from torchvision import transforms\n",
    "from tqdm import tqdm\n",
    "\n",
    "# --- 1. 설정 (Configuration) ---\n",
    "CONFIG = {\n",
    "    \"image_dir\": \"sleepy/dataset/Trainning/image_trainning/all_image_trainning\",\n",
    "    \"label_dir\": \"sleepy/dataset/Trainning/label_trainning/all_label_trainning\",\n",
    "    \"device\": torch.device(\"cuda\" if torch.cuda.is_available() else \"cpu\"),\n",
    "    \"img_size\": 90,\n",
    "    \"batch_size\": 32,\n",
    "    \"epochs\": 15,\n",
    "    \"learning_rate\": 0.001,\n",
    "    \"max_samples\": 9000,  # None으로 설정하면 모든 데이터를 사용합니다.\n",
    "    \"model_path\": \"eye_state_classifier.pth\"\n",
    "}\n",
    "\n",
    "\n",
    "# --- 2. 유틸리티 함수 (Utility Functions) ---\n",
    "def str2bool(val: str) -> bool:\n",
    "    \"\"\"문자열을 boolean 값으로 변환합니다.\"\"\"\n",
    "    return str(val).lower() in (\"true\", \"1\")\n",
    "\n",
    "def crop_and_resize_eye(frame: np.ndarray, bbox: tuple, size: int = 90) -> np.ndarray | None:\n",
    "    \"\"\"\n",
    "    주어진 바운딩 박스를 이용해 이미지를 크롭하고 리사이즈합니다.\n",
    "\n",
    "    Args:\n",
    "        frame (np.ndarray): 원본 이미지 프레임.\n",
    "        bbox (tuple): (x, y, w, h) 형태의 바운딩 박스.\n",
    "        size (int): 리사이즈할 이미지의 크기.\n",
    "\n",
    "    Returns:\n",
    "        np.ndarray | None: 처리된 이미지 또는 실패 시 None.\n",
    "    \"\"\"\n",
    "    if bbox is None:\n",
    "        return None\n",
    "    \n",
    "    x, y, w, h = bbox\n",
    "    # BBox에 여유 공간(padding)을 추가하여 눈 주변 영역을 더 많이 포함시킵니다.\n",
    "    x1 = max(x - int(w * 0.5), 0)\n",
    "    y1 = max(y - int(h * 0.5), 0)\n",
    "    x2 = min(x + w + int(w * 0.5), frame.shape[1])\n",
    "    y2 = min(y + h + int(h * 0.5), frame.shape[0])\n",
    "\n",
    "    eye_crop = frame[y1:y2, x1:x2]\n",
    "\n",
    "    if eye_crop.size == 0:\n",
    "        return None\n",
    "        \n",
    "    return cv2.resize(eye_crop, (size, size))\n",
    "\n",
    "\n",
    "# --- 3. 데이터셋 클래스 (Dataset Class) ---\n",
    "class EyeDataset(Dataset):\n",
    "    \"\"\"\n",
    "    눈 이미지와 상태(Opened/Closed) 레이블을 로드하는 커스텀 데이터셋 클래스.\n",
    "    메모리 효율성을 위해 이미지 경와 정보만 저장하고, __getitem__에서 이미지를 로드합니다.\n",
    "    \"\"\"\n",
    "    def __init__(self, image_dir: str, label_dir: str, transform=None, max_samples: int | None = None):\n",
    "        self.image_dir = Path(image_dir)\n",
    "        self.label_dir = Path(label_dir)\n",
    "        self.transform = transform\n",
    "        self.samples = []\n",
    "\n",
    "        image_files = sorted([f for f in os.listdir(image_dir) if f.lower().endswith(('.jpg', '.jpeg', '.png'))])\n",
    "        if max_samples:\n",
    "            image_files = image_files[:max_samples]\n",
    "\n",
    "        print(\"🔍 데이터셋을 스캔하고 유효한 샘플을 수집합니다...\")\n",
    "        for img_name in tqdm(image_files, desc=\"데이터셋 로딩 중\"):\n",
    "            img_path = self.image_dir / img_name\n",
    "            label_path = self.label_dir / (img_name.rsplit('.', 1)[0] + '.json')\n",
    "\n",
    "            if not label_path.exists():\n",
    "                continue\n",
    "\n",
    "            try:\n",
    "                with open(label_path, 'r', encoding='utf-8') as f:\n",
    "                    label_data = json.load(f)\n",
    "            except Exception:\n",
    "                continue\n",
    "\n",
    "            object_info = label_data.get('ObjectInfo', {})\n",
    "            keypoints_info = object_info.get('KeyPoints', {})\n",
    "            points = keypoints_info.get('Points')\n",
    "            bounding_boxes = object_info.get('BoundingBox', {})\n",
    "\n",
    "            if not points or len(points) < (47 * 2):\n",
    "                continue\n",
    "            \n",
    "            try:\n",
    "                points_arr = np.array(points, dtype=np.float32).reshape(-1, 2)\n",
    "            except (ValueError, TypeError):\n",
    "                continue\n",
    "\n",
    "            leye_indices = [36, 37, 38, 39, 40, 41]\n",
    "            reye_indices = [42, 43, 44, 45, 46, 47]\n",
    "\n",
    "            leye_points = points_arr[leye_indices]\n",
    "            reye_points = points_arr[reye_indices]\n",
    "\n",
    "            lx_min, ly_min = np.min(leye_points, axis=0)\n",
    "            lx_max, ly_max = np.max(leye_points, axis=0)\n",
    "            rx_min, ry_min = np.min(reye_points, axis=0)\n",
    "            rx_max, ry_max = np.max(reye_points, axis=0)\n",
    "\n",
    "            leye_bbox = (int(lx_min), int(ly_min), int(lx_max - lx_min), int(ly_max - ly_min))\n",
    "            reye_bbox = (int(rx_min), int(ry_min), int(rx_max - rx_min), int(ry_max - ry_min))\n",
    "\n",
    "            leye_opened = str2bool(bounding_boxes.get('Leye', {}).get('Opened', False))\n",
    "            reye_opened = str2bool(bounding_boxes.get('Reye', {}).get('Opened', False))\n",
    "\n",
    "            # 유효한 눈 데이터만 샘플에 추가\n",
    "            if leye_bbox[2] > 0 and leye_bbox[3] > 0:\n",
    "                self.samples.append((str(img_path), leye_bbox, int(leye_opened)))\n",
    "            if reye_bbox[2] > 0 and reye_bbox[3] > 0:\n",
    "                self.samples.append((str(img_path), reye_bbox, int(reye_opened)))\n",
    "\n",
    "        print(f\"✅ 총 {len(self.samples)}개의 유효한 눈 데이터를 수집했습니다.\")\n",
    "\n",
    "    def __len__(self):\n",
    "        return len(self.samples)\n",
    "\n",
    "    def __getitem__(self, idx):\n",
    "        img_path, bbox, label = self.samples[idx]\n",
    "        \n",
    "        # 이미지를 필요할 때 로드 (Lazy Loading)\n",
    "        image_cv = cv2.imread(img_path)\n",
    "        if image_cv is None:\n",
    "            # 이미지 로드 실패 시, 다음 샘플을 시도하거나 에러 처리\n",
    "            # 여기서는 간단히 None을 반환하고 DataLoader에서 처리하도록 함\n",
    "            return None, None\n",
    "\n",
    "        eye_img = crop_and_resize_eye(image_cv, bbox, size=CONFIG['img_size'])\n",
    "        if eye_img is None:\n",
    "            return None, None\n",
    "\n",
    "        # OpenCV(BGR) 이미지를 PIL(RGB)로 변환\n",
    "        image_pil = Image.fromarray(cv2.cvtColor(eye_img, cv2.COLOR_BGR2RGB))\n",
    "\n",
    "        if self.transform:\n",
    "            image = self.transform(image_pil)\n",
    "        \n",
    "        return image, torch.tensor(label, dtype=torch.float)\n",
    "\n",
    "\n",
    "# --- 4. 모델 아키텍처 (Model Architecture) ---\n",
    "class EyeCNN(nn.Module):\n",
    "    \"\"\"눈 상태 분류를 위한 간단한 CNN 모델.\"\"\"\n",
    "    def __init__(self):\n",
    "        super(EyeCNN, self).__init__()\n",
    "        img_size = CONFIG['img_size']\n",
    "        \n",
    "        self.conv1 = nn.Conv2d(3, 32, kernel_size=3, padding=1)\n",
    "        self.pool = nn.MaxPool2d(kernel_size=2, stride=2)\n",
    "        self.conv2 = nn.Conv2d(32, 64, kernel_size=3, padding=1)\n",
    "        self.conv3 = nn.Conv2d(64, 128, kernel_size=3, padding=1)\n",
    "        \n",
    "        # 3번의 Max Pooling 후의 피처맵 크기 계산\n",
    "        # 90x90 -> Pool -> 45x45 -> Pool -> 22x22 -> Pool -> 11x11\n",
    "        final_size = img_size // (2**3)\n",
    "        \n",
    "        self.fc1 = nn.Linear(128 * final_size * final_size, 512)\n",
    "        self.fc2 = nn.Linear(512, 128)\n",
    "        self.fc3 = nn.Linear(128, 1)\n",
    "        self.dropout = nn.Dropout(0.5)\n",
    "\n",
    "    def forward(self, x):\n",
    "        x = self.pool(F.relu(self.conv1(x)))\n",
    "        x = self.pool(F.relu(self.conv2(x)))\n",
    "        x = self.pool(F.relu(self.conv3(x)))\n",
    "        \n",
    "        x = x.view(x.size(0), -1) # Flatten\n",
    "        \n",
    "        x = F.relu(self.fc1(x))\n",
    "        x = self.dropout(x)\n",
    "        x = F.relu(self.fc2(x))\n",
    "        x = self.dropout(x)\n",
    "        x = torch.sigmoid(self.fc3(x))\n",
    "        return x\n",
    "\n",
    "\n",
    "# --- 5. 학습 및 평가 함수 (Train & Evaluate Functions) ---\n",
    "def train_model(model, train_loader, criterion, optimizer, device, epochs):\n",
    "    \"\"\"모델 학습을 위한 함수\"\"\"\n",
    "    model.train()\n",
    "    train_losses = []\n",
    "    print(\"\\n=== 🚀 학습 시작 ===\")\n",
    "    for epoch in range(epochs):\n",
    "        running_loss = 0.0\n",
    "        # tqdm을 사용하여 진행률 표시\n",
    "        for images, labels in tqdm(train_loader, desc=f\"Epoch {epoch+1:02d}/{epochs}\"):\n",
    "            if images is None: continue\n",
    "\n",
    "            images = images.to(device)\n",
    "            labels = labels.float().unsqueeze(1).to(device)\n",
    "            \n",
    "            optimizer.zero_grad()\n",
    "            outputs = model(images)\n",
    "            loss = criterion(outputs, labels)\n",
    "            loss.backward()\n",
    "            optimizer.step()\n",
    "            \n",
    "            running_loss += loss.item()\n",
    "        \n",
    "        avg_loss = running_loss / len(train_loader)\n",
    "        train_losses.append(avg_loss)\n",
    "        print(f\"Epoch [{epoch+1:02d}/{epochs}], Loss: {avg_loss:.4f}\")\n",
    "    \n",
    "    print(\"=== ✅ 학습 종료 ===\")\n",
    "    return train_losses\n",
    "\n"
   ]
  },
  {
   "cell_type": "code",
   "execution_count": 2,
   "id": "8879ae2e",
   "metadata": {},
   "outputs": [
    {
     "name": "stdout",
     "output_type": "stream",
     "text": [
      "💡 사용 디바이스: cuda\n",
      "🔍 데이터셋을 스캔하고 유효한 샘플을 수집합니다...\n"
     ]
    },
    {
     "name": "stderr",
     "output_type": "stream",
     "text": [
      "데이터셋 로딩 중: 100%|██████████| 9000/9000 [00:01<00:00, 4613.33it/s]\n"
     ]
    },
    {
     "name": "stdout",
     "output_type": "stream",
     "text": [
      "✅ 총 17990개의 유효한 눈 데이터를 수집했습니다.\n",
      "\n",
      "학습 데이터셋 크기: 14392\n",
      "테스트 데이터셋 크기: 3598\n",
      "\n",
      "EyeCNN(\n",
      "  (conv1): Conv2d(3, 32, kernel_size=(3, 3), stride=(1, 1), padding=(1, 1))\n",
      "  (pool): MaxPool2d(kernel_size=2, stride=2, padding=0, dilation=1, ceil_mode=False)\n",
      "  (conv2): Conv2d(32, 64, kernel_size=(3, 3), stride=(1, 1), padding=(1, 1))\n",
      "  (conv3): Conv2d(64, 128, kernel_size=(3, 3), stride=(1, 1), padding=(1, 1))\n",
      "  (fc1): Linear(in_features=15488, out_features=512, bias=True)\n",
      "  (fc2): Linear(in_features=512, out_features=128, bias=True)\n",
      "  (fc3): Linear(in_features=128, out_features=1, bias=True)\n",
      "  (dropout): Dropout(p=0.5, inplace=False)\n",
      ")\n",
      "\n",
      "=== 🚀 학습 시작 ===\n"
     ]
    },
    {
     "name": "stderr",
     "output_type": "stream",
     "text": [
      "Epoch 01/15: 100%|██████████| 450/450 [01:06<00:00,  6.74it/s]\n"
     ]
    },
    {
     "name": "stdout",
     "output_type": "stream",
     "text": [
      "Epoch [01/15], Loss: 0.0031\n"
     ]
    },
    {
     "name": "stderr",
     "output_type": "stream",
     "text": [
      "Epoch 02/15: 100%|██████████| 450/450 [01:12<00:00,  6.17it/s]\n"
     ]
    },
    {
     "name": "stdout",
     "output_type": "stream",
     "text": [
      "Epoch [02/15], Loss: 0.0000\n"
     ]
    },
    {
     "name": "stderr",
     "output_type": "stream",
     "text": [
      "Epoch 03/15: 100%|██████████| 450/450 [01:05<00:00,  6.85it/s]\n"
     ]
    },
    {
     "name": "stdout",
     "output_type": "stream",
     "text": [
      "Epoch [03/15], Loss: 0.0000\n"
     ]
    },
    {
     "name": "stderr",
     "output_type": "stream",
     "text": [
      "Epoch 04/15: 100%|██████████| 450/450 [01:08<00:00,  6.61it/s]\n"
     ]
    },
    {
     "name": "stdout",
     "output_type": "stream",
     "text": [
      "Epoch [04/15], Loss: 0.0000\n"
     ]
    },
    {
     "name": "stderr",
     "output_type": "stream",
     "text": [
      "Epoch 05/15: 100%|██████████| 450/450 [01:07<00:00,  6.70it/s]\n"
     ]
    },
    {
     "name": "stdout",
     "output_type": "stream",
     "text": [
      "Epoch [05/15], Loss: 0.0000\n"
     ]
    },
    {
     "name": "stderr",
     "output_type": "stream",
     "text": [
      "Epoch 06/15: 100%|██████████| 450/450 [01:05<00:00,  6.89it/s]\n"
     ]
    },
    {
     "name": "stdout",
     "output_type": "stream",
     "text": [
      "Epoch [06/15], Loss: 0.0000\n"
     ]
    },
    {
     "name": "stderr",
     "output_type": "stream",
     "text": [
      "Epoch 07/15: 100%|██████████| 450/450 [01:04<00:00,  6.99it/s]\n"
     ]
    },
    {
     "name": "stdout",
     "output_type": "stream",
     "text": [
      "Epoch [07/15], Loss: 0.0000\n"
     ]
    },
    {
     "name": "stderr",
     "output_type": "stream",
     "text": [
      "Epoch 08/15: 100%|██████████| 450/450 [01:05<00:00,  6.91it/s]\n"
     ]
    },
    {
     "name": "stdout",
     "output_type": "stream",
     "text": [
      "Epoch [08/15], Loss: 0.0000\n"
     ]
    },
    {
     "name": "stderr",
     "output_type": "stream",
     "text": [
      "Epoch 09/15: 100%|██████████| 450/450 [01:08<00:00,  6.59it/s]\n"
     ]
    },
    {
     "name": "stdout",
     "output_type": "stream",
     "text": [
      "Epoch [09/15], Loss: 0.0000\n"
     ]
    },
    {
     "name": "stderr",
     "output_type": "stream",
     "text": [
      "Epoch 10/15: 100%|██████████| 450/450 [01:10<00:00,  6.42it/s]\n"
     ]
    },
    {
     "name": "stdout",
     "output_type": "stream",
     "text": [
      "Epoch [10/15], Loss: 0.0000\n"
     ]
    },
    {
     "name": "stderr",
     "output_type": "stream",
     "text": [
      "Epoch 11/15: 100%|██████████| 450/450 [01:11<00:00,  6.34it/s]\n"
     ]
    },
    {
     "name": "stdout",
     "output_type": "stream",
     "text": [
      "Epoch [11/15], Loss: 0.0000\n"
     ]
    },
    {
     "name": "stderr",
     "output_type": "stream",
     "text": [
      "Epoch 12/15: 100%|██████████| 450/450 [01:11<00:00,  6.33it/s]\n"
     ]
    },
    {
     "name": "stdout",
     "output_type": "stream",
     "text": [
      "Epoch [12/15], Loss: 0.0000\n"
     ]
    },
    {
     "name": "stderr",
     "output_type": "stream",
     "text": [
      "Epoch 13/15: 100%|██████████| 450/450 [01:13<00:00,  6.16it/s]\n"
     ]
    },
    {
     "name": "stdout",
     "output_type": "stream",
     "text": [
      "Epoch [13/15], Loss: 0.0000\n"
     ]
    },
    {
     "name": "stderr",
     "output_type": "stream",
     "text": [
      "Epoch 14/15: 100%|██████████| 450/450 [01:10<00:00,  6.41it/s]\n"
     ]
    },
    {
     "name": "stdout",
     "output_type": "stream",
     "text": [
      "Epoch [14/15], Loss: 0.0000\n"
     ]
    },
    {
     "name": "stderr",
     "output_type": "stream",
     "text": [
      "Epoch 15/15: 100%|██████████| 450/450 [01:10<00:00,  6.38it/s]\n"
     ]
    },
    {
     "name": "stdout",
     "output_type": "stream",
     "text": [
      "Epoch [15/15], Loss: 0.0000\n",
      "=== ✅ 학습 종료 ===\n",
      "\n",
      "=== 📊 모델 평가 시작 ===\n"
     ]
    },
    {
     "name": "stderr",
     "output_type": "stream",
     "text": [
      "평가 중: 100%|██████████| 113/113 [00:16<00:00,  7.01it/s]\n"
     ]
    },
    {
     "name": "stdout",
     "output_type": "stream",
     "text": [
      "\n",
      "[디버깅 정보]\n",
      "y_true 클래스 분포: {np.float32(0.0): np.int64(3598)}\n",
      "y_pred 클래스 분포: {np.int32(0): np.int64(3598)}\n",
      "\n",
      "[평가 결과]\n",
      "              precision    recall  f1-score   support\n",
      "\n",
      "  Closed (0)       1.00      1.00      1.00      3598\n",
      "  Opened (1)       0.00      0.00      0.00         0\n",
      "\n",
      "    accuracy                           1.00      3598\n",
      "   macro avg       0.50      0.50      0.50      3598\n",
      "weighted avg       1.00      1.00      1.00      3598\n",
      "\n",
      "Confusion Matrix:\n",
      "[[3598    0]\n",
      " [   0    0]]\n",
      "\n",
      "Accuracy: 1.0000\n",
      "\n",
      "💾 학습된 모델을 'eye_state_classifier.pth'에 저장했습니다.\n"
     ]
    },
    {
     "data": {
      "image/png": "[encoded data removed]",
      "text/plain": [
       "<Figure size 1000x500 with 1 Axes>"
      ]
     },
     "metadata": {},
     "output_type": "display_data"
    }
   ],
   "source": [
    "def evaluate_model(model, test_loader, device):\n",
    "    \"\"\"학습된 모델을 평가하는 함수\"\"\"\n",
    "    model.eval()\n",
    "    all_preds = []\n",
    "    all_labels = []\n",
    "    \n",
    "    print(\"\\n=== 📊 모델 평가 시작 ===\")\n",
    "    with torch.no_grad():\n",
    "        for images, labels in tqdm(test_loader, desc=\"평가 중\"):\n",
    "            if images is None: continue\n",
    "\n",
    "            images = images.to(device)\n",
    "            outputs = model(images)\n",
    "            predicted = (outputs > 0.5).int().cpu().squeeze()\n",
    "            \n",
    "            all_preds.append(predicted)\n",
    "            all_labels.append(labels)\n",
    "\n",
    "    # 리스트에 있는 텐서들을 하나로 합침\n",
    "    y_pred = torch.cat([p.view(-1) for p in all_preds]).numpy()\n",
    "    y_true = torch.cat([l.view(-1) for l in all_labels]).numpy()\n",
    "\n",
    "    # 클래스 분포 확인\n",
    "    unique_true, counts_true = np.unique(y_true, return_counts=True)\n",
    "    unique_pred, counts_pred = np.unique(y_pred, return_counts=True)\n",
    "\n",
    "    print(\"\\n[디버깅 정보]\")\n",
    "    print(f\"y_true 클래스 분포: {dict(zip(unique_true, counts_true))}\")\n",
    "    print(f\"y_pred 클래스 분포: {dict(zip(unique_pred, counts_pred))}\")\n",
    "    \n",
    "    print(\"\\n[평가 결과]\")\n",
    "    print(classification_report(y_true, y_pred, target_names=['Closed (0)', 'Opened (1)'], labels=[0, 1], zero_division=0))\n",
    "    \n",
    "    print(\"Confusion Matrix:\")\n",
    "    cm = confusion_matrix(y_true, y_pred, labels=[0, 1])\n",
    "    print(cm)\n",
    "    \n",
    "    print(f\"\\nAccuracy: {accuracy_score(y_true, y_pred):.4f}\")\n",
    "\n",
    "\n",
    "# --- 6. 메인 실행 블록 (Main Execution Block) ---\n",
    "if __name__ == \"__main__\":\n",
    "    print(f\"💡 사용 디바이스: {CONFIG['device']}\")\n",
    "\n",
    "    # 데이터셋 및 데이터로더 준비\n",
    "    transform = transforms.Compose([\n",
    "        transforms.ToTensor(),\n",
    "        transforms.Normalize((0.5, 0.5, 0.5), (0.5, 0.5, 0.5))\n",
    "    ])\n",
    "    \n",
    "    full_dataset = EyeDataset(\n",
    "        CONFIG['image_dir'], \n",
    "        CONFIG['label_dir'], \n",
    "        transform=transform, \n",
    "        max_samples=CONFIG['max_samples']\n",
    "    )\n",
    "\n",
    "    if len(full_dataset) > 0:\n",
    "        # DataLoader에서 None 값을 걸러내기 위한 collate_fn\n",
    "        def collate_fn(batch):\n",
    "            batch = list(filter(lambda x: x[0] is not None, batch))\n",
    "            if not batch: return torch.Tensor(), torch.Tensor()\n",
    "            return torch.utils.data.dataloader.default_collate(batch)\n",
    "\n",
    "        # 데이터셋 분할 (학습: 80%, 테스트: 20%)\n",
    "        train_size = int(0.8 * len(full_dataset))\n",
    "        test_size = len(full_dataset) - train_size\n",
    "        train_dataset, test_dataset = random_split(full_dataset, [train_size, test_size])\n",
    "\n",
    "        train_loader = DataLoader(train_dataset, batch_size=CONFIG['batch_size'], shuffle=True, collate_fn=collate_fn)\n",
    "        test_loader = DataLoader(test_dataset, batch_size=CONFIG['batch_size'], shuffle=False, collate_fn=collate_fn)\n",
    "\n",
    "        print(f\"\\n학습 데이터셋 크기: {len(train_dataset)}\")\n",
    "        print(f\"테스트 데이터셋 크기: {len(test_dataset)}\\n\")\n",
    "\n",
    "        # 모델, 손실 함수, 옵티마이저 정의\n",
    "        model = EyeCNN().to(CONFIG['device'])\n",
    "        print(model)\n",
    "        \n",
    "        criterion = nn.BCELoss()\n",
    "        optimizer = torch.optim.Adam(model.parameters(), lr=CONFIG['learning_rate'])\n",
    "        \n",
    "        # 모델 학습\n",
    "        train_losses = train_model(model, train_loader, criterion, optimizer, CONFIG['device'], CONFIG['epochs'])\n",
    "        \n",
    "        # 모델 평가\n",
    "        if len(test_loader.dataset) > 0:\n",
    "            evaluate_model(model, test_loader, CONFIG['device'])\n",
    "        \n",
    "        # 모델 가중치 저장\n",
    "        torch.save(model.state_dict(), CONFIG['model_path'])\n",
    "        print(f\"\\n💾 학습된 모델을 '{CONFIG['model_path']}'에 저장했습니다.\")\n",
    "\n",
    "        # 손실 그래프 시각화\n",
    "        plt.figure(figsize=(10, 5))\n",
    "        plt.plot(train_losses, label='Training Loss')\n",
    "        plt.title(\"Training Loss per Epoch\")\n",
    "        plt.xlabel(\"Epoch\")\n",
    "        plt.ylabel(\"Loss\")\n",
    "        plt.legend()\n",
    "        plt.grid(True)\n",
    "        plt.show()\n",
    "\n",
    "    else:\n",
    "        print(\"❌ 학습할 데이터가 없습니다. 데이터셋 경로와 내용을 확인해주세요.\")"
   ]
  },
  {
   "cell_type": "code",
   "execution_count": null,
   "id": "33c0ba02",
   "metadata": {},
   "outputs": [],
   "source": []
  }
 ],
 "metadata": {
  "kernelspec": {
   "display_name": "base",
   "language": "python",
   "name": "python3"
  },
  "language_info": {
   "codemirror_mode": {
    "name": "ipython",
    "version": 3
   },
   "file_extension": ".py",
   "mimetype": "text/x-python",
   "name": "python",
   "nbconvert_exporter": "python",
   "pygments_lexer": "ipython3",
   "version": "3.13.5"
  }
 },
 "nbformat": 4,
 "nbformat_minor": 5
}
