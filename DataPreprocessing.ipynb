{
 "cells": [
  {
   "cell_type": "code",
   "execution_count": 2,
   "id": "764639db-0fab-459f-af83-4e00ca318f89",
   "metadata": {},
   "outputs": [
    {
     "name": "stdout",
     "output_type": "stream",
     "text": [
      "Requirement already satisfied: torch in c:\\anaconda3\\lib\\site-packages (2.7.1)\n",
      "Requirement already satisfied: torchvision in c:\\anaconda3\\lib\\site-packages (0.22.1)\n",
      "Requirement already satisfied: torchaudio in c:\\anaconda3\\lib\\site-packages (2.7.1)\n",
      "Requirement already satisfied: lightning in c:\\anaconda3\\lib\\site-packages (2.5.2)\n",
      "Requirement already satisfied: filelock in c:\\anaconda3\\lib\\site-packages (from torch) (3.13.1)\n",
      "Requirement already satisfied: typing-extensions>=4.10.0 in c:\\anaconda3\\lib\\site-packages (from torch) (4.14.1)\n",
      "Requirement already satisfied: sympy>=1.13.3 in c:\\anaconda3\\lib\\site-packages (from torch) (1.14.0)\n",
      "Requirement already satisfied: networkx in c:\\anaconda3\\lib\\site-packages (from torch) (3.3)\n",
      "Requirement already satisfied: jinja2 in c:\\anaconda3\\lib\\site-packages (from torch) (3.1.4)\n",
      "Requirement already satisfied: fsspec in c:\\anaconda3\\lib\\site-packages (from torch) (2024.6.1)\n",
      "Requirement already satisfied: setuptools in c:\\anaconda3\\lib\\site-packages (from torch) (80.9.0)\n",
      "Requirement already satisfied: numpy in c:\\anaconda3\\lib\\site-packages (from torchvision) (1.26.4)\n",
      "Requirement already satisfied: pillow!=8.3.*,>=5.3.0 in c:\\anaconda3\\lib\\site-packages (from torchvision) (10.4.0)\n",
      "Requirement already satisfied: PyYAML<8.0,>=5.4 in c:\\anaconda3\\lib\\site-packages (from lightning) (6.0.1)\n",
      "Requirement already satisfied: lightning-utilities<2.0,>=0.10.0 in c:\\anaconda3\\lib\\site-packages (from lightning) (0.14.3)\n",
      "Requirement already satisfied: packaging<27.0,>=20.0 in c:\\anaconda3\\lib\\site-packages (from lightning) (24.1)\n",
      "Requirement already satisfied: torchmetrics<3.0,>=0.7.0 in c:\\anaconda3\\lib\\site-packages (from lightning) (1.7.4)\n",
      "Requirement already satisfied: tqdm<6.0,>=4.57.0 in c:\\anaconda3\\lib\\site-packages (from lightning) (4.66.5)\n",
      "Requirement already satisfied: pytorch-lightning in c:\\anaconda3\\lib\\site-packages (from lightning) (2.5.2)\n",
      "Requirement already satisfied: aiohttp!=4.0.0a0,!=4.0.0a1 in c:\\anaconda3\\lib\\site-packages (from fsspec[http]<2027.0,>=2022.5.0->lightning) (3.10.5)\n",
      "Requirement already satisfied: mpmath<1.4,>=1.1.0 in c:\\anaconda3\\lib\\site-packages (from sympy>=1.13.3->torch) (1.3.0)\n",
      "Requirement already satisfied: colorama in c:\\anaconda3\\lib\\site-packages (from tqdm<6.0,>=4.57.0->lightning) (0.4.6)\n",
      "Requirement already satisfied: MarkupSafe>=2.0 in c:\\anaconda3\\lib\\site-packages (from jinja2->torch) (2.1.3)\n",
      "Requirement already satisfied: aiohappyeyeballs>=2.3.0 in c:\\anaconda3\\lib\\site-packages (from aiohttp!=4.0.0a0,!=4.0.0a1->fsspec[http]<2027.0,>=2022.5.0->lightning) (2.4.0)\n",
      "Requirement already satisfied: aiosignal>=1.1.2 in c:\\anaconda3\\lib\\site-packages (from aiohttp!=4.0.0a0,!=4.0.0a1->fsspec[http]<2027.0,>=2022.5.0->lightning) (1.2.0)\n",
      "Requirement already satisfied: attrs>=17.3.0 in c:\\anaconda3\\lib\\site-packages (from aiohttp!=4.0.0a0,!=4.0.0a1->fsspec[http]<2027.0,>=2022.5.0->lightning) (23.1.0)\n",
      "Requirement already satisfied: frozenlist>=1.1.1 in c:\\anaconda3\\lib\\site-packages (from aiohttp!=4.0.0a0,!=4.0.0a1->fsspec[http]<2027.0,>=2022.5.0->lightning) (1.4.0)\n",
      "Requirement already satisfied: multidict<7.0,>=4.5 in c:\\anaconda3\\lib\\site-packages (from aiohttp!=4.0.0a0,!=4.0.0a1->fsspec[http]<2027.0,>=2022.5.0->lightning) (6.0.4)\n",
      "Requirement already satisfied: yarl<2.0,>=1.0 in c:\\anaconda3\\lib\\site-packages (from aiohttp!=4.0.0a0,!=4.0.0a1->fsspec[http]<2027.0,>=2022.5.0->lightning) (1.11.0)\n",
      "Requirement already satisfied: idna>=2.0 in c:\\anaconda3\\lib\\site-packages (from yarl<2.0,>=1.0->aiohttp!=4.0.0a0,!=4.0.0a1->fsspec[http]<2027.0,>=2022.5.0->lightning) (3.7)\n"
     ]
    }
   ],
   "source": [
    "!pip install torch torchvision torchaudio lightning"
   ]
  },
  {
   "cell_type": "code",
   "execution_count": 11,
   "id": "a05259db-19e6-4b4c-9676-73361df2a832",
   "metadata": {},
   "outputs": [
    {
     "name": "stdout",
     "output_type": "stream",
     "text": [
      "1\n"
     ]
    }
   ],
   "source": [
    "a = 1\n",
    "print(a)"
   ]
  },
  {
   "cell_type": "code",
   "execution_count": 15,
   "id": "791b0cba-7f6e-4db1-ae31-4cdb23f93dc3",
   "metadata": {},
   "outputs": [
    {
     "name": "stdout",
     "output_type": "stream",
     "text": [
      "웹캠 실행 중... 's' 키를 누르면 눈을 저장하고, 'q' 키를 누르면 종료됩니다.\n",
      "눈 저장 완료: left_eye_20250715_104019130640.png, right_eye_20250715_104019130640.png\n",
      "눈 저장 완료: left_eye_20250715_104020218138.png, right_eye_20250715_104020218138.png\n",
      "눈 저장 완료: left_eye_20250715_104023353189.png, right_eye_20250715_104023353189.png\n",
      "종료합니다.\n"
     ]
    }
   ],
   "source": [
    "import cv2\n",
    "import mediapipe as mp\n",
    "import numpy as np\n",
    "from datetime import datetime\n",
    "import os\n",
    "\n",
    "SAVE_DIR = r\"C:\\Users\\Users\\eye_captures\"\n",
    "os.makedirs(SAVE_DIR, exist_ok=True)\n",
    "\n",
    "# Mediapipe 초기 설정\n",
    "mp_face_mesh = mp.solutions.face_mesh\n",
    "face_mesh = mp_face_mesh.FaceMesh(\n",
    "    refine_landmarks=True,\n",
    "    max_num_faces=1,\n",
    "    min_detection_confidence=0.5,\n",
    "    min_tracking_confidence=0.5\n",
    ")\n",
    "\n",
    "# 눈 랜드마크 인덱스 (정확한 좌우 기준)\n",
    "RIGHT_EYE_IDX = [33, 133, 160, 159, 158, 157, 173, 246]   # 사람의 오른쪽 눈 (화면에서는 왼쪽)\n",
    "LEFT_EYE_IDX = [362, 263, 387, 386, 385, 384, 398, 466]   # 사람의 왼쪽 눈 (화면에서는 오른쪽)\n",
    "\n",
    "# 눈 이미지 추출 함수\n",
    "def extract_eye(image, landmarks, eye_indices, padding=20):\n",
    "    ih, iw, _ = image.shape\n",
    "    eye_points = np.array([(int(landmarks[i].x * iw), int(landmarks[i].y * ih)) for i in eye_indices])\n",
    "    x, y, w, h = cv2.boundingRect(eye_points)\n",
    "\n",
    "    x = max(x - padding, 0)\n",
    "    y = max(y - padding, 0)\n",
    "    w = min(w + padding * 2, iw - x)\n",
    "    h = min(h + padding * 2, ih - y)\n",
    "\n",
    "    eye_img = image[y:y+h, x:x+w]\n",
    "    return eye_img\n",
    "\n",
    "# 웹캠 시작\n",
    "cap = cv2.VideoCapture(0)\n",
    "print(\"웹캠 실행 중... 's' 키를 누르면 눈을 저장하고, 'q' 키를 누르면 종료됩니다.\")\n",
    "\n",
    "left_eye_img = None\n",
    "right_eye_img = None\n",
    "\n",
    "while cap.isOpened():\n",
    "    success, frame = cap.read()\n",
    "    if not success:\n",
    "        print(\"카메라 프레임을 가져올 수 없습니다.\")\n",
    "        break\n",
    "\n",
    "    # RGB 변환\n",
    "    rgb_frame = cv2.cvtColor(frame, cv2.COLOR_BGR2RGB)\n",
    "    results = face_mesh.process(rgb_frame)\n",
    "\n",
    "    # 눈 영역 추출\n",
    "    if results.multi_face_landmarks:\n",
    "        for face_landmarks in results.multi_face_landmarks:\n",
    "            landmarks = face_landmarks.landmark\n",
    "            try:\n",
    "                left_eye_img = extract_eye(frame, landmarks, LEFT_EYE_IDX)\n",
    "                right_eye_img = extract_eye(frame, landmarks, RIGHT_EYE_IDX)\n",
    "\n",
    "                # 눈 이미지 실시간 출력\n",
    "                if left_eye_img.size > 0:\n",
    "                    cv2.imshow(\"Left Eye\", left_eye_img)\n",
    "                if right_eye_img.size > 0:\n",
    "                    cv2.imshow(\"Right Eye\", right_eye_img)\n",
    "            except Exception as e:\n",
    "                print(\"눈 추출 중 오류 발생:\", e)\n",
    "                continue\n",
    "\n",
    "    # 원본 영상 표시\n",
    "    cv2.imshow(\"Webcam\", frame)\n",
    "\n",
    "    key = cv2.waitKey(1) & 0xFF\n",
    "\n",
    "    # 눈 저장: 's' 키\n",
    "    if key == ord('s') and left_eye_img is not None and right_eye_img is not None:\n",
    "        timestamp = datetime.now().strftime(\"%Y%m%d_%H%M%S%f\")\n",
    "        left_path = f\"left_eye_{timestamp}.png\"\n",
    "        right_path = f\"right_eye_{timestamp}.png\"\n",
    "\n",
    "        # ✅ 눈 이미지 90x90으로 리사이즈\n",
    "        left_resized = cv2.resize(left_eye_img, (90, 90))\n",
    "        right_resized = cv2.resize(right_eye_img, (90, 90))\n",
    "\n",
    "        # ✅ 저장\n",
    "        cv2.imwrite(os.path.join(SAVE_DIR, left_path), left_resized)\n",
    "        cv2.imwrite(os.path.join(SAVE_DIR, right_path), right_resized)\n",
    "\n",
    "        print(f\"눈 저장 완료: {left_path}, {right_path}\")\n",
    "\n",
    "    # 종료: 'q' 키\n",
    "    elif key == ord('q'):\n",
    "        print(\"종료합니다.\")\n",
    "        break\n",
    "\n",
    "# 종료 처리\n",
    "cap.release()\n",
    "cv2.destroyAllWindows()"
   ]
  },
  {
   "cell_type": "code",
   "execution_count": 12,
   "id": "583f6bc3-1751-406e-8055-9117e0e3d14b",
   "metadata": {},
   "outputs": [
    {
     "name": "stdout",
     "output_type": "stream",
     "text": [
      "현재 작업 디렉토리: C:\\Windows\\System32\n"
     ]
    }
   ],
   "source": [
    "import os\n",
    "print(\"현재 작업 디렉토리:\", os.getcwd())"
   ]
  }
 ],
 "metadata": {
  "kernelspec": {
   "display_name": "Python 3 (ipykernel)",
   "language": "python",
   "name": "python3"
  },
  "language_info": {
   "codemirror_mode": {
    "name": "ipython",
    "version": 3
   },
   "file_extension": ".py",
   "mimetype": "text/x-python",
   "name": "python",
   "nbconvert_exporter": "python",
   "pygments_lexer": "ipython3",
   "version": "3.12.7"
  }
 },
 "nbformat": 4,
 "nbformat_minor": 5
}
